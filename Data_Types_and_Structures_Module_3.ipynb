{
  "nbformat": 4,
  "nbformat_minor": 0,
  "metadata": {
    "colab": {
      "provenance": []
    },
    "kernelspec": {
      "name": "python3",
      "display_name": "Python 3"
    },
    "language_info": {
      "name": "python"
    }
  },
  "cells": [
    {
      "cell_type": "markdown",
      "source": [
        "# Data Types and Structures Module 3\n"
      ],
      "metadata": {
        "id": "GrA90mdluMj7"
      }
    },
    {
      "cell_type": "markdown",
      "source": [
        "1. What are data structures, and why are they important?\n",
        "  - Data structures are ways to organize and store data so it can be used efficiently.\n",
        "  # Why Are They Important?\n",
        "  - Efficiency – Improve speed of operations (search, insert, delete).\n",
        "  - Organization – Manage data logically.\n",
        "  - Problem Solving – Help solve complex tasks (e.g., searching, sorting).\n",
        "  - Memory Use – Optimize memory.\n",
        "  - Real-World Use – Used in apps like search       engines, social media, and databases.\n",
        "  # Common Types:\n",
        "  - Array – Fixed-size list.\n",
        "  - Linked List – Chain of nodes.\n",
        "  - Stack/Queue – LIFO/FIFO structures.\n",
        "  - Tree/Graph – Hierarchical or networked data.\n",
        "  - Hash Table – Fast key-value lookup.\n",
        "\n"
      ],
      "metadata": {
        "id": "1dJvNKOFudH6"
      }
    },
    {
      "cell_type": "markdown",
      "source": [
        "2. Explain the difference between mutable and     immutable data types with examples?\n",
        "   - They are tow types\n",
        "     1. Mutable Data Type\n",
        "     2. Immutable Data Type\n",
        "   - Mutable:- data types can be changed after they are created.\n",
        "   You can add, remove, or change their content without creating a new object.\n",
        "      - Examples\n",
        "          - list, dict, set\n",
        "  - Immutable:- data types cannot be changed after they are created. If you try to change them, a new object is created.\n",
        "      - Examples\n",
        "          - int, float, str, tuple\n"
      ],
      "metadata": {
        "id": "UxElQDIcw5S1"
      }
    },
    {
      "cell_type": "markdown",
      "source": [
        "3. What are the main differences between lists and tuples in Python?\n",
        "  - List\n",
        "    - Mutable – You can change, add, or remove elements after creation.\n",
        "    - Uses square brackets – Defined using [ ] (Example., [1, 2, 3]).\n",
        "    - More methods – Has many built-in methods like .append(), .remove().\n",
        "    - Slower than tuples – Because they are flexible and allow changes.\n",
        "    - Used when data changes – Best for dynamic data.\n",
        "  - Tuples\n",
        "    - Immutable – Cannot be changed after creation.\n",
        "    - Uses parentheses – Defined using ( ) (Example., (1, 2, 3)).\n",
        "    - Fewer methods – Only basic methods like .count() and .index().\n",
        "    - Faster than lists – Because of fixed size and immutability.\n",
        "    - Used when data is constant – Best for fixed data like coordinates or settings."
      ],
      "metadata": {
        "id": "KVtCQnvL5O1b"
      }
    },
    {
      "cell_type": "markdown",
      "source": [
        "4. Describe how dictionaries store data?\n",
        "  - **Store** **data** as **key-value pairs**\n",
        "    - Example: {\"name\": \"Alice\", \"age\": 25}\n",
        "  - **Keys** must be unique and immutable (e.g., str, int, tuple).\n",
        "  - **Values** can be any data type.\n",
        "  - Internally use a hash table for fast access.\n",
        "  - **Fast operations:** insert, delete, and lookup are usually O(1)."
      ],
      "metadata": {
        "id": "bVXUJI8h7raI"
      }
    },
    {
      "cell_type": "markdown",
      "source": [
        "5. Why might you use a set instead of a list in Python?\n",
        "  - Because sets cannot have multiple occurrences of the same element, it makes sets highly useful to efficiently remove duplicate values from a list or tuple and to perform common math operations like unions and intersections."
      ],
      "metadata": {
        "id": "f1Q7OutIDAiB"
      }
    },
    {
      "cell_type": "markdown",
      "source": [
        "6. What is a string in Python, and how is it different from a list?\n",
        "  - **String**: A string is a sequence of characters enclosed in quotes. Example: \"hello\" or 'Python'.\n",
        "  - **Difference between string and list:**\n",
        "    - A string holds characters only, while a list can hold any data types.\n",
        "    - Strings are written in quotes; lists use square brackets.\n",
        "    - Strings are immutable (cannot change), but lists are mutable (can change).\n",
        "  \n"
      ],
      "metadata": {
        "id": "9kf65BcuD3kA"
      }
    },
    {
      "cell_type": "markdown",
      "source": [
        "7. How do tuples ensure data integrity in Python?\n",
        "  - Tuples help protect data by preventing changes, making them ideal for fixed, constant values.\n"
      ],
      "metadata": {
        "id": "cfpEdErBE1tg"
      }
    },
    {
      "cell_type": "markdown",
      "source": [
        "8. What is a hash table, and how does it relate to dictionaries in Python?\n",
        "  - A dictionary in Python uses a hash table internally to store and retrieve data quickly and efficiently.\n"
      ],
      "metadata": {
        "id": "NjBxgYHPFOF9"
      }
    },
    {
      "cell_type": "markdown",
      "source": [
        " 9. Can lists contain different data types in Python?\n",
        "  - Yes, Python lists can contain elements of different data types. This is a key feature of Python's flexibility and makes lists a highly versatile data structure.\n",
        "  -  example, a single Python list can hold integers, strings, floats, booleans, and even other complex data structures like nested lists, tuples, or dictionaries, all within the same list."
      ],
      "metadata": {
        "id": "A7myejBqFh62"
      }
    },
    {
      "cell_type": "markdown",
      "source": [
        "10. Explain why strings are immutable in Python?\n",
        "  - In Python, strings are immutable, meaning their content cannot be changed once they are created. This immutability is by design and offers several advantages.\n",
        "  - It helps Python manage memory more efficiently by allowing the reuse of string objects. Since strings do not change, they can be safely used as keys in dictionaries, which require consistent and hashable keys. Immutability also protects against accidental modification, making programs more secure and reliable.\n",
        "  - Additionally, it supports thread-safety, as immutable objects can be shared between threads without causing unexpected behavior.\n",
        "  - Overall, string immutability ensures stability, consistency, and performance in Python programs.\n"
      ],
      "metadata": {
        "id": "82xG7TKRF5-T"
      }
    },
    {
      "cell_type": "markdown",
      "source": [
        "11. What advantages do dictionaries offer over lists for certain tasks?\n",
        "  - **Fast lookup →** O(1) vs O(n) for lists\n",
        "  - **Key-value mapping →** more readable than index-based access\n",
        "  - **No need for indexes →** access by key directly\n",
        "  - **Flexible keys →** not just integers\n",
        "  - **Unique keys →** avoid duplicates\n",
        "  - **Efficient for sparse data**\n"
      ],
      "metadata": {
        "id": "lHMtP4v6G0n2"
      }
    },
    {
      "cell_type": "markdown",
      "source": [
        "12. Describe a scenario where using a tuple would be preferable over a list?\n",
        "  - **Tuple:** Immutable, fixed data, safer from accidental changes, can be used as dictionary keys.\n",
        "  - **List:** Mutable, flexible, good for changing or growing data.\n",
        "      - **Use tuple** when data should not change (Exampale., coordinates, RGB values, function return values)."
      ],
      "metadata": {
        "id": "EMBdZLApKdE6"
      }
    },
    {
      "cell_type": "markdown",
      "source": [
        " 13. How do sets handle duplicate values in Python?\n",
        "  - Python sets are inherently designed to store only unique, immutable elements. They do not allow duplicate values. When attempting to add a duplicate element to a set, the set simply ignores the addition; it does not raise an error or store multiple copies of the same element.\n",
        "  "
      ],
      "metadata": {
        "id": "TE_C3TI7LMnP"
      }
    },
    {
      "cell_type": "markdown",
      "source": [
        "14. How does the “in” keyword work differently for lists and dictionaries?\n",
        "  - The in keyword in Python functions differently for lists and dictionaries primarily in what it searches for:\n",
        "      - **Lists:** When used with a list, the in operator checks for the presence of a specific element (value) within the list. It iterates through the list to find a match.\n",
        "     - **Dictionaries:** When used with a dictionary, the in operator checks for the presence of a specific key within the dictionary. It does not directly check for values."
      ],
      "metadata": {
        "id": "ZVGQ9ggjMMZF"
      }
    },
    {
      "cell_type": "markdown",
      "source": [
        "15. Can you modify the elements of a tuple? Explain why or why not.\n",
        "  - No, you cannot modify elements of a tuple.\n",
        "      - Tuples in Python are immutable → once created, their elements cannot be changed, added, or removed.\n",
        "      - This immutability makes them safe, hashable (usable as dictionary keys or set elements), and slightly faster than lists."
      ],
      "metadata": {
        "id": "mjPkTV_NNBWc"
      }
    },
    {
      "cell_type": "markdown",
      "source": [
        "16. What is a nested dictionary, and give an example of its use case?\n",
        "  - A nested dictionary is a dictionary inside another dictionary. It allows you to store structured or hierarchical data.\n",
        "      - **Example Use Case:** Storing student data with subjects and scores"
      ],
      "metadata": {
        "id": "7UFzv4PqNeEW"
      }
    },
    {
      "cell_type": "markdown",
      "source": [
        "17. Describe the time complexity of accessing elements in a dictionary.\n",
        "  - Accessing a value by key in a Python dictionary is O(1) on average (constant time).\n",
        "\n",
        "  - This is because dictionaries use a hash table internally.\n",
        "\n",
        "  - Worst-case: O(n), but very rare (occurs when many keys hash to the same slot)."
      ],
      "metadata": {
        "id": "ebMvl863N3Jd"
      }
    },
    {
      "cell_type": "markdown",
      "source": [
        "18. In what situations are lists preferred over dictionaries?\n",
        "  - Lists → ordered, index-based, simple collections\n",
        "\n",
        "  - Dictionaries → unordered, key-value mapping, fast lookups"
      ],
      "metadata": {
        "id": "j4Z8GsqqORgi"
      }
    },
    {
      "cell_type": "markdown",
      "source": [
        "19. Why are dictionaries considered unordered, and how does that affect data retrieval?\n",
        "  - **Why Dictionaries Are Considered Unordered**\n",
        "\n",
        "      - Traditionally, Python dictionaries do not maintain the order of elements.\n",
        "\n",
        "      - Each key-value pair is stored based on its hash value, not the order of insertion.\n",
        "\n",
        "      - Note: Since Python 3.7+, insertion order is preserved, but conceptually dictionaries are still unordered collections because order isn’t the primary property.\n",
        "\n",
        "  - Effect on Data Retrieval\n",
        "\n",
        "      - You cannot rely on order when iterating over a dictionary.\n",
        "\n",
        "      - Access is always by key, not by position:"
      ],
      "metadata": {
        "id": "itMt1tCKOgbj"
      }
    },
    {
      "cell_type": "markdown",
      "source": [
        "20. Explain the difference between a list and a dictionary in terms of data retrieval.\n",
        "  - **Lists:** Data retrieval in a list is based on positional indexing. Each element in a list is assigned an integer index, starting from 0 for the first element. To access an element, its numerical index is provided. This makes lists suitable for ordered collections where the position of an item is significant or when iterating through elements in a specific sequence.\n",
        "  - **Dictionaries:** Data retrieval in a dictionary is based on key-value mapping. Each value is associated with a unique, immutable key. To access a value, its corresponding key is provided. This allows for direct and efficient lookups of values based on a descriptive identifier, rather than a numerical position. Dictionaries are ideal for storing and retrieving data where a meaningful label is associated with each piece of information."
      ],
      "metadata": {
        "id": "fvvIPJCsPCI4"
      }
    },
    {
      "cell_type": "markdown",
      "source": [
        "# Practical Questions"
      ],
      "metadata": {
        "id": "bYgWzpAePl5t"
      }
    },
    {
      "cell_type": "markdown",
      "source": [
        "1. Write a code to create a string with your name and print it."
      ],
      "metadata": {
        "id": "9MVRIKKKPspG"
      }
    },
    {
      "cell_type": "markdown",
      "source": [
        "  - The answer to the 1st question"
      ],
      "metadata": {
        "id": "j9lzl2tlQOsX"
      }
    },
    {
      "cell_type": "code",
      "execution_count": 2,
      "metadata": {
        "id": "l5bf8JMLuFRq",
        "colab": {
          "base_uri": "https://localhost:8080/"
        },
        "outputId": "69c49543-0d43-401d-fcf4-43344ea0331a"
      },
      "outputs": [
        {
          "output_type": "stream",
          "name": "stdout",
          "text": [
            "My name is Sarpuri Yashvitha\n"
          ]
        }
      ],
      "source": [
        "name = \"Sarpuri Yashvitha\"\n",
        "print(\"My name is\", name)\n"
      ]
    },
    {
      "cell_type": "markdown",
      "source": [
        "2. Write a code to find the length of the string \"Hello World\"?"
      ],
      "metadata": {
        "id": "TFmUkv2tQMR0"
      }
    },
    {
      "cell_type": "markdown",
      "source": [
        "  - The answer to the 2nd question"
      ],
      "metadata": {
        "id": "Cdf37GNNQlMU"
      }
    },
    {
      "cell_type": "code",
      "source": [
        "T = \"Hello World\"\n",
        "length = len(T)\n",
        "print(\"Length of the string is:\", length)\n"
      ],
      "metadata": {
        "colab": {
          "base_uri": "https://localhost:8080/"
        },
        "id": "K_wqQbsFQxkz",
        "outputId": "b7ebf06f-8099-428e-e9be-c1c3ecefe033"
      },
      "execution_count": 4,
      "outputs": [
        {
          "output_type": "stream",
          "name": "stdout",
          "text": [
            "Length of the string is: 11\n"
          ]
        }
      ]
    },
    {
      "cell_type": "markdown",
      "source": [
        "3. Write a code to slice the first 3 characters from the string \"Python Programming\"?"
      ],
      "metadata": {
        "id": "Az_6KlG0ROjC"
      }
    },
    {
      "cell_type": "markdown",
      "source": [
        "  - The answer to the 3rd Question"
      ],
      "metadata": {
        "id": "ouEUdg9fRjMJ"
      }
    },
    {
      "cell_type": "code",
      "source": [
        "T = \"Python Programming\"\n",
        "# Slice first 3 characters\n",
        "first_three = T[:3]\n",
        "print(\"First 3 characters:\", first_three)\n"
      ],
      "metadata": {
        "colab": {
          "base_uri": "https://localhost:8080/"
        },
        "id": "ypB99ntJRW7G",
        "outputId": "073e8e53-e760-47bd-e37e-da95bca835aa"
      },
      "execution_count": 7,
      "outputs": [
        {
          "output_type": "stream",
          "name": "stdout",
          "text": [
            "First 3 characters: Pyt\n"
          ]
        }
      ]
    },
    {
      "cell_type": "markdown",
      "source": [
        "4. Write a code to convert the string \"hello\" to uppercase?"
      ],
      "metadata": {
        "id": "dr1YpzzORtfQ"
      }
    },
    {
      "cell_type": "markdown",
      "source": [
        "  - The answer to the 4th Question"
      ],
      "metadata": {
        "id": "5tH7a8ahSFsr"
      }
    },
    {
      "cell_type": "code",
      "source": [
        "T = \"hello\"\n",
        "# Convert to uppercase\n",
        "upper_T = T.upper()\n",
        "print(upper_T)\n"
      ],
      "metadata": {
        "colab": {
          "base_uri": "https://localhost:8080/"
        },
        "id": "U8J2sz-dR5hn",
        "outputId": "0a15b553-9361-41af-8e55-7c666ac77e3a"
      },
      "execution_count": 8,
      "outputs": [
        {
          "output_type": "stream",
          "name": "stdout",
          "text": [
            "HELLO\n"
          ]
        }
      ]
    },
    {
      "cell_type": "markdown",
      "source": [
        "5. Write a code to replace the word \"apple\" with \"orange\" in the string \"I like apple\"?"
      ],
      "metadata": {
        "id": "UD2Dg7eQSTCn"
      }
    },
    {
      "cell_type": "markdown",
      "source": [
        "  - The answer to the 5th Question"
      ],
      "metadata": {
        "id": "wXpgeyXYSddT"
      }
    },
    {
      "cell_type": "code",
      "source": [
        "text = \"apple\"\n",
        "# Replace 'apple' with 'orange'\n",
        "new_text = text.replace(\"apple\", \"orange\")\n",
        "print(new_text)\n"
      ],
      "metadata": {
        "colab": {
          "base_uri": "https://localhost:8080/"
        },
        "id": "xJch5v_1Sd4k",
        "outputId": "b5fc5257-674f-4139-9f6e-16c87d334b13"
      },
      "execution_count": 10,
      "outputs": [
        {
          "output_type": "stream",
          "name": "stdout",
          "text": [
            "orange\n"
          ]
        }
      ]
    },
    {
      "cell_type": "markdown",
      "source": [
        "6. Write a code to create a list with numbers 1 to 5 and print it?"
      ],
      "metadata": {
        "id": "OJ9Pp4mMS_jc"
      }
    },
    {
      "cell_type": "markdown",
      "source": [
        "  - The answer to the 6th Question"
      ],
      "metadata": {
        "id": "O3mbhu5WTrXm"
      }
    },
    {
      "cell_type": "code",
      "source": [
        "List_numbers = [1, 2, 3, 4, 5]\n",
        "print(List_numbers)\n"
      ],
      "metadata": {
        "colab": {
          "base_uri": "https://localhost:8080/"
        },
        "id": "G8dHvmTzTry3",
        "outputId": "168a08d8-fff0-4e28-9e06-e889c494a76c"
      },
      "execution_count": 12,
      "outputs": [
        {
          "output_type": "stream",
          "name": "stdout",
          "text": [
            "[1, 2, 3, 4, 5]\n"
          ]
        }
      ]
    },
    {
      "cell_type": "markdown",
      "source": [
        "7. Write a code to append the number 10 to the list [1, 2, 3, 4]?"
      ],
      "metadata": {
        "id": "8LFE3O0gT81i"
      }
    },
    {
      "cell_type": "markdown",
      "source": [
        "  - The answer to the 7th Question"
      ],
      "metadata": {
        "id": "dbbDqJWUUBAO"
      }
    },
    {
      "cell_type": "code",
      "source": [
        "numbers = [1, 2, 3, 4]\n",
        "numbers.append(10)\n",
        "print(numbers)\n"
      ],
      "metadata": {
        "colab": {
          "base_uri": "https://localhost:8080/"
        },
        "id": "D3A5aKb7UBPi",
        "outputId": "56b6b1fb-e1c9-45fb-872b-3d22bcde9b59"
      },
      "execution_count": 32,
      "outputs": [
        {
          "output_type": "stream",
          "name": "stdout",
          "text": [
            "[1, 2, 3, 4, 10]\n"
          ]
        }
      ]
    },
    {
      "cell_type": "markdown",
      "source": [
        "8.  Write a code to remove the number 3 from the list [1, 2, 3, 4, 5]?"
      ],
      "metadata": {
        "id": "CUl0hi0kUTGT"
      }
    },
    {
      "cell_type": "markdown",
      "source": [
        "  - The answer to the 8th Question"
      ],
      "metadata": {
        "id": "t0aKPWCgUYOz"
      }
    },
    {
      "cell_type": "code",
      "source": [
        "N = [1, 2, 3, 4, 5]\n",
        "N.remove(3)\n",
        "print(N)\n"
      ],
      "metadata": {
        "colab": {
          "base_uri": "https://localhost:8080/"
        },
        "id": "mrVsrFOFUYma",
        "outputId": "e69fb3e3-af3b-4c38-ebd8-a55a153fb0c4"
      },
      "execution_count": 31,
      "outputs": [
        {
          "output_type": "stream",
          "name": "stdout",
          "text": [
            "[1, 2, 4, 5]\n"
          ]
        }
      ]
    },
    {
      "cell_type": "markdown",
      "source": [
        "9. Write a code to access the second element in the list ['a', 'b', 'c', 'd']?"
      ],
      "metadata": {
        "id": "tw8eQOZoUnVb"
      }
    },
    {
      "cell_type": "markdown",
      "source": [
        "  - The answer to the 9th Question"
      ],
      "metadata": {
        "id": "_xCvAtgAUutD"
      }
    },
    {
      "cell_type": "code",
      "source": [
        "L = ['a', 'b', 'c', 'd']\n",
        "second_element = L[1]\n",
        "print(\"Second element:\", second_element)\n"
      ],
      "metadata": {
        "colab": {
          "base_uri": "https://localhost:8080/"
        },
        "id": "DpDPQIVKUu7Q",
        "outputId": "dfb6c855-ac23-4796-c87b-556beaf65b62"
      },
      "execution_count": 30,
      "outputs": [
        {
          "output_type": "stream",
          "name": "stdout",
          "text": [
            "Second element: b\n"
          ]
        }
      ]
    },
    {
      "cell_type": "markdown",
      "source": [
        "10. Write a code to reverse the list [10, 20, 30, 40, 50]?"
      ],
      "metadata": {
        "id": "DL_0H102U-R2"
      }
    },
    {
      "cell_type": "markdown",
      "source": [
        "  - The answer to the 10th Question"
      ],
      "metadata": {
        "id": "MpgNRAMDVCef"
      }
    },
    {
      "cell_type": "code",
      "source": [
        "numbers = [10, 20, 30, 40, 50]\n",
        "reversed_numbers = numbers[::-1]\n",
        "print(reversed_numbers)\n"
      ],
      "metadata": {
        "colab": {
          "base_uri": "https://localhost:8080/"
        },
        "id": "Pjzk6bdsVDjN",
        "outputId": "672cb5b9-8b8b-43b3-81cd-b7a9f220fd39"
      },
      "execution_count": 16,
      "outputs": [
        {
          "output_type": "stream",
          "name": "stdout",
          "text": [
            "[50, 40, 30, 20, 10]\n"
          ]
        }
      ]
    },
    {
      "cell_type": "markdown",
      "source": [
        "11.  Write a code to create a tuple with the elements 100, 200, 300 and print it?"
      ],
      "metadata": {
        "id": "O8rmScW9WQLK"
      }
    },
    {
      "cell_type": "markdown",
      "source": [
        "  - The answer to the 11th Question"
      ],
      "metadata": {
        "id": "Pzy2kGOtWUCv"
      }
    },
    {
      "cell_type": "code",
      "source": [
        "N = (100, 200, 300)\n",
        "print(N)\n"
      ],
      "metadata": {
        "colab": {
          "base_uri": "https://localhost:8080/"
        },
        "id": "kGe9uJMKWUSS",
        "outputId": "414dbf29-0903-48e8-e8c1-60940bec099e"
      },
      "execution_count": 17,
      "outputs": [
        {
          "output_type": "stream",
          "name": "stdout",
          "text": [
            "(100, 200, 300)\n"
          ]
        }
      ]
    },
    {
      "cell_type": "markdown",
      "source": [
        "12. Write a code to access the second-to-last element of the tuple ('red', 'green', 'blue', 'yellow')?"
      ],
      "metadata": {
        "id": "TRjZZb3vWm5X"
      }
    },
    {
      "cell_type": "markdown",
      "source": [
        "  - The answer to the 12th Question"
      ],
      "metadata": {
        "id": "YtXjCU0PWvj3"
      }
    },
    {
      "cell_type": "code",
      "source": [
        "colors = ('red', 'green', 'blue', 'yellow')\n",
        "# Access second-to-last element\n",
        "second_last = colors[-2]\n",
        "print(\"Second-to-last element:\", second_last)\n"
      ],
      "metadata": {
        "colab": {
          "base_uri": "https://localhost:8080/"
        },
        "id": "I-MqzonhWwaM",
        "outputId": "a2cf2315-1b3a-4b22-ede6-79cec7cebc0a"
      },
      "execution_count": 18,
      "outputs": [
        {
          "output_type": "stream",
          "name": "stdout",
          "text": [
            "Second-to-last element: blue\n"
          ]
        }
      ]
    },
    {
      "cell_type": "markdown",
      "source": [
        "13. Write a code to find the minimum number in the tuple (10, 20, 5, 15)?"
      ],
      "metadata": {
        "id": "6Pe-UsdgW8fR"
      }
    },
    {
      "cell_type": "markdown",
      "source": [
        "  - The answer to the 13th Question"
      ],
      "metadata": {
        "id": "BX3cBm53XFZ8"
      }
    },
    {
      "cell_type": "code",
      "source": [
        "numbers = (10, 20, 5, 15)\n",
        "min_number = min(numbers)\n",
        "print(\"Minimum number:\", min_number)\n"
      ],
      "metadata": {
        "colab": {
          "base_uri": "https://localhost:8080/"
        },
        "id": "o4_3AlocXEwQ",
        "outputId": "08c6e09e-a6e9-464a-cc3c-e42f8ddc75b8"
      },
      "execution_count": 19,
      "outputs": [
        {
          "output_type": "stream",
          "name": "stdout",
          "text": [
            "Minimum number: 5\n"
          ]
        }
      ]
    },
    {
      "cell_type": "markdown",
      "source": [
        "14. Write a code to find the index of the element \"cat\" in the tuple ('dog', 'cat', 'rabbit')?"
      ],
      "metadata": {
        "id": "FEchwjCuXL7U"
      }
    },
    {
      "cell_type": "markdown",
      "source": [
        "  - The answer to the 14th Question"
      ],
      "metadata": {
        "id": "v9_e5xcdXS8h"
      }
    },
    {
      "cell_type": "code",
      "source": [
        "animals = ('dog', 'cat', 'rabbit')\n",
        "index_cat = animals.index('cat')\n",
        "print(\"Index of 'cat':\", index_cat)\n"
      ],
      "metadata": {
        "colab": {
          "base_uri": "https://localhost:8080/"
        },
        "id": "VhZ-lTyPXTMR",
        "outputId": "bedeeb27-0db1-4c1b-d5eb-da4e6f0f05f7"
      },
      "execution_count": 20,
      "outputs": [
        {
          "output_type": "stream",
          "name": "stdout",
          "text": [
            "Index of 'cat': 1\n"
          ]
        }
      ]
    },
    {
      "cell_type": "markdown",
      "source": [
        "15. Write a code to create a tuple containing three different fruits and check if \"kiwi\" is in it?"
      ],
      "metadata": {
        "id": "uZGy8x40XcmB"
      }
    },
    {
      "cell_type": "markdown",
      "source": [
        "  - The answer to the 15th Question"
      ],
      "metadata": {
        "id": "j2VoN14IXlr4"
      }
    },
    {
      "cell_type": "code",
      "source": [
        "fruits = (\"apple\", \"banana\", \"orange\")\n",
        "is_kiwi_present = \"kiwi\" in fruits\n",
        "print(\"Is 'kiwi' in tuple?\", is_kiwi_present)\n"
      ],
      "metadata": {
        "colab": {
          "base_uri": "https://localhost:8080/"
        },
        "id": "X5Wg2ajJXlVE",
        "outputId": "46f131e6-c2d6-499d-85ad-3dc0c2b22d0c"
      },
      "execution_count": 21,
      "outputs": [
        {
          "output_type": "stream",
          "name": "stdout",
          "text": [
            "Is 'kiwi' in tuple? False\n"
          ]
        }
      ]
    },
    {
      "cell_type": "markdown",
      "source": [
        "16. Write a code to create a set with the elements 'a', 'b', 'c' and print it?"
      ],
      "metadata": {
        "id": "e0EuFyghbExx"
      }
    },
    {
      "cell_type": "markdown",
      "source": [
        "  - The answer to the 16th Question"
      ],
      "metadata": {
        "id": "H-q6mBCubNTy"
      }
    },
    {
      "cell_type": "code",
      "source": [
        "letters = {'a', 'b', 'c'}\n",
        "print(letters)\n"
      ],
      "metadata": {
        "colab": {
          "base_uri": "https://localhost:8080/"
        },
        "id": "QMGQLKyzbNoh",
        "outputId": "aa2167b6-0800-46ef-84ec-ca461a09e5b5"
      },
      "execution_count": 22,
      "outputs": [
        {
          "output_type": "stream",
          "name": "stdout",
          "text": [
            "{'a', 'c', 'b'}\n"
          ]
        }
      ]
    },
    {
      "cell_type": "markdown",
      "source": [
        "17. Write a code to clear all elements from the set {1, 2, 3, 4, 5}?"
      ],
      "metadata": {
        "id": "Vzc1sY5ibWK-"
      }
    },
    {
      "cell_type": "markdown",
      "source": [
        "  - The answer to the 17th Question"
      ],
      "metadata": {
        "id": "0KTOirzxbckL"
      }
    },
    {
      "cell_type": "code",
      "source": [
        "N= {1, 2, 3, 4, 5}\n",
        "N.clear()\n",
        "print(N)\n"
      ],
      "metadata": {
        "colab": {
          "base_uri": "https://localhost:8080/"
        },
        "id": "KiJa2MBAbc_i",
        "outputId": "9aaf5299-a241-499f-e4cf-8782c5c157c4"
      },
      "execution_count": 23,
      "outputs": [
        {
          "output_type": "stream",
          "name": "stdout",
          "text": [
            "set()\n"
          ]
        }
      ]
    },
    {
      "cell_type": "markdown",
      "source": [
        "18. Write a code to remove the element 4 from the set {1, 2, 3, 4}?"
      ],
      "metadata": {
        "id": "JBlsXlxbbvmw"
      }
    },
    {
      "cell_type": "markdown",
      "source": [
        "  - The answer to the 18th Question"
      ],
      "metadata": {
        "id": "lRJou9vGbz7u"
      }
    },
    {
      "cell_type": "code",
      "source": [
        "N = {1, 2, 3, 4}\n",
        "N.remove(4)\n",
        "print(N)\n"
      ],
      "metadata": {
        "colab": {
          "base_uri": "https://localhost:8080/"
        },
        "id": "SWHzwbBdb0dh",
        "outputId": "2f49c7dd-0cc1-40b9-d86c-6f00a8eb4a1f"
      },
      "execution_count": 24,
      "outputs": [
        {
          "output_type": "stream",
          "name": "stdout",
          "text": [
            "{1, 2, 3}\n"
          ]
        }
      ]
    },
    {
      "cell_type": "markdown",
      "source": [
        "19. Write a code to find the union of two sets {1, 2, 3} and {3, 4, 5}?"
      ],
      "metadata": {
        "id": "VZRpjaAGcFKR"
      }
    },
    {
      "cell_type": "markdown",
      "source": [
        "  - The answer to the 19th Question"
      ],
      "metadata": {
        "id": "HFjFavOgcJW6"
      }
    },
    {
      "cell_type": "code",
      "source": [
        "set1 = {1, 2, 3}\n",
        "set2 = {3, 4, 5}\n",
        "union_set = set1.union(set2)\n",
        "print(\"Union:\", union_set)\n"
      ],
      "metadata": {
        "colab": {
          "base_uri": "https://localhost:8080/"
        },
        "id": "dz1HM93BcJnI",
        "outputId": "74326d7b-0d61-40b9-889c-7111027b5b43"
      },
      "execution_count": 25,
      "outputs": [
        {
          "output_type": "stream",
          "name": "stdout",
          "text": [
            "Union: {1, 2, 3, 4, 5}\n"
          ]
        }
      ]
    },
    {
      "cell_type": "markdown",
      "source": [
        "20. Write a code to find the intersection of two sets {1, 2, 3} and {2, 3, 4}?"
      ],
      "metadata": {
        "id": "y-yTRFFEcUm4"
      }
    },
    {
      "cell_type": "markdown",
      "source": [
        "  - The answer to the 20th Question"
      ],
      "metadata": {
        "id": "p_t-G1GDceGf"
      }
    },
    {
      "cell_type": "code",
      "source": [
        "set1 = {1, 2, 3}\n",
        "set2 = {2, 3, 4}\n",
        "intersection_set = set1.intersection(set2)\n",
        "print(\"Intersection:\", intersection_set)\n"
      ],
      "metadata": {
        "colab": {
          "base_uri": "https://localhost:8080/"
        },
        "id": "wFhXnLwAceUT",
        "outputId": "61055b99-ac9a-430c-c506-c27ca9bb49e6"
      },
      "execution_count": 27,
      "outputs": [
        {
          "output_type": "stream",
          "name": "stdout",
          "text": [
            "Intersection: {2, 3}\n"
          ]
        }
      ]
    },
    {
      "cell_type": "markdown",
      "source": [
        "21. Write a code to create a dictionary with the keys \"name\", \"age\", and \"city\", and print it?"
      ],
      "metadata": {
        "id": "XIDEx0dpcwlu"
      }
    },
    {
      "cell_type": "markdown",
      "source": [
        "The answer to the 21st Question"
      ],
      "metadata": {
        "id": "-Yx_fSrmdER9"
      }
    },
    {
      "cell_type": "code",
      "source": [
        "person = {\n",
        "    \"name\": \"Sarpuri Yashvitha\",\n",
        "    \"age\": 22,\n",
        "    \"city\": \"Chittoor\"\n",
        "}\n",
        "print(person)\n"
      ],
      "metadata": {
        "colab": {
          "base_uri": "https://localhost:8080/"
        },
        "id": "yJz6Dx8EdEd7",
        "outputId": "81b7feec-b961-4205-b951-e6e1db011527"
      },
      "execution_count": 28,
      "outputs": [
        {
          "output_type": "stream",
          "name": "stdout",
          "text": [
            "{'name': 'Sarpuri Yashvitha', 'age': 22, 'city': 'Chittoor'}\n"
          ]
        }
      ]
    },
    {
      "cell_type": "markdown",
      "source": [
        "22. Write a code to add a new key-value pair \"country\": \"USA\" to the dictionary {'name': 'John', 'age': 25}?"
      ],
      "metadata": {
        "id": "3sSOFDw2dUpZ"
      }
    },
    {
      "cell_type": "markdown",
      "source": [
        "The answer to the 22nd Question"
      ],
      "metadata": {
        "id": "_ya6-iOVdY-r"
      }
    },
    {
      "cell_type": "code",
      "source": [
        "person = {'name': 'John', 'age': 25}\n",
        "person['country'] = 'USA'\n",
        "print(person)\n"
      ],
      "metadata": {
        "colab": {
          "base_uri": "https://localhost:8080/"
        },
        "id": "W4t3MUT3dZge",
        "outputId": "9c346e22-6519-4d67-bb50-ae6e06dad0a5"
      },
      "execution_count": 29,
      "outputs": [
        {
          "output_type": "stream",
          "name": "stdout",
          "text": [
            "{'name': 'John', 'age': 25, 'country': 'USA'}\n"
          ]
        }
      ]
    },
    {
      "cell_type": "markdown",
      "source": [
        "23. Write a code to access the value associated with the key \"name\" in the dictionary {'name': 'Alice', 'age': 30}?"
      ],
      "metadata": {
        "id": "-QBXYr75d6W5"
      }
    },
    {
      "cell_type": "markdown",
      "source": [
        "The answer to the 23rd Question"
      ],
      "metadata": {
        "id": "lzURfODhXnGB"
      }
    },
    {
      "cell_type": "code",
      "source": [
        "person = {'name': 'Alice', 'age': 30}\n",
        "name_value = person['name']\n",
        "print(\"Name:\", name_value)\n"
      ],
      "metadata": {
        "colab": {
          "base_uri": "https://localhost:8080/"
        },
        "id": "TSFaLQE0XncD",
        "outputId": "cab1559e-4c42-4828-e7bd-8bddbf8566c3"
      },
      "execution_count": 1,
      "outputs": [
        {
          "output_type": "stream",
          "name": "stdout",
          "text": [
            "Name: Alice\n"
          ]
        }
      ]
    },
    {
      "cell_type": "markdown",
      "source": [
        "24. Write a code to remove the key \"age\" from the dictionary {'name': 'Bob', 'age': 22, 'city': 'New York'}?"
      ],
      "metadata": {
        "id": "cAOSDfyvX6UM"
      }
    },
    {
      "cell_type": "markdown",
      "source": [
        "The answer to the 24th Question"
      ],
      "metadata": {
        "id": "LVuY20oYX_JW"
      }
    },
    {
      "cell_type": "code",
      "source": [
        "person = {'name': 'Bob', 'age': 22, 'city': 'New York'}\n",
        "person.pop('age')\n",
        "print(person)\n"
      ],
      "metadata": {
        "colab": {
          "base_uri": "https://localhost:8080/"
        },
        "id": "xNEogk5wX_wU",
        "outputId": "b61ac135-d3b5-4de1-c7d0-edcccc5cc325"
      },
      "execution_count": 2,
      "outputs": [
        {
          "output_type": "stream",
          "name": "stdout",
          "text": [
            "{'name': 'Bob', 'city': 'New York'}\n"
          ]
        }
      ]
    },
    {
      "cell_type": "markdown",
      "source": [
        "25. Write a code to check if the key \"city\" exists in the dictionary {'name': 'Alice', 'city': 'Paris'}?"
      ],
      "metadata": {
        "id": "o5sZGY61YSSc"
      }
    },
    {
      "cell_type": "markdown",
      "source": [
        "The answer to the 25th Question"
      ],
      "metadata": {
        "id": "u1KVqwjiYeYA"
      }
    },
    {
      "cell_type": "code",
      "source": [
        "person = {'name': 'Alice', 'city': 'Paris'}\n",
        "if \"city\" in person:\n",
        "    print(\"Key 'city' exists.\")\n",
        "else:\n",
        "    print(\"Key 'city' does not exist.\")\n"
      ],
      "metadata": {
        "colab": {
          "base_uri": "https://localhost:8080/"
        },
        "id": "LwwR58UQYdj0",
        "outputId": "001321ad-3734-4190-ae1b-b425d9dafa1f"
      },
      "execution_count": 4,
      "outputs": [
        {
          "output_type": "stream",
          "name": "stdout",
          "text": [
            "Key 'city' exists.\n"
          ]
        }
      ]
    },
    {
      "cell_type": "markdown",
      "source": [
        "26. Write a code to create a list, a tuple, and a dictionary, and print them all?"
      ],
      "metadata": {
        "id": "CYK3eOsSYxBD"
      }
    },
    {
      "cell_type": "markdown",
      "source": [
        "The answer to the 26th Question"
      ],
      "metadata": {
        "id": "e-zm-Yujeg7F"
      }
    },
    {
      "cell_type": "code",
      "source": [
        "my_list = [1, 2, 3, 4, 5]\n",
        "my_tuple = (\"apple\", \"banana\", \"cherry\")\n",
        "my_dict = {\"name\": \"Alice\", \"age\": 25, \"city\": \"New York\"}\n",
        "print(\"List:\", my_list)\n",
        "print(\"Tuple:\", my_tuple)\n",
        "print(\"Dictionary:\", my_dict)\n"
      ],
      "metadata": {
        "colab": {
          "base_uri": "https://localhost:8080/"
        },
        "id": "5mTpByDSehZn",
        "outputId": "540a1783-97e8-4f04-fa80-1b980e106ee1"
      },
      "execution_count": 5,
      "outputs": [
        {
          "output_type": "stream",
          "name": "stdout",
          "text": [
            "List: [1, 2, 3, 4, 5]\n",
            "Tuple: ('apple', 'banana', 'cherry')\n",
            "Dictionary: {'name': 'Alice', 'age': 25, 'city': 'New York'}\n"
          ]
        }
      ]
    },
    {
      "cell_type": "markdown",
      "source": [
        "27. Write a code to create a list of 5 random numbers between 1 and 100, sort it in ascending order, and print the\n",
        "result.(replaced)?"
      ],
      "metadata": {
        "id": "upIPCLFgerk2"
      }
    },
    {
      "cell_type": "markdown",
      "source": [
        "The answer to the 27th Question"
      ],
      "metadata": {
        "id": "3vu2BfIEevkI"
      }
    },
    {
      "cell_type": "code",
      "source": [
        "import random\n",
        "numbers = [random.randint(1, 100) for _ in range(5)]\n",
        "numbers.sort()\n",
        "print(\"Sorted list:\", numbers)\n"
      ],
      "metadata": {
        "colab": {
          "base_uri": "https://localhost:8080/"
        },
        "id": "KKn3FTpVewDp",
        "outputId": "3005e4e3-fa8d-409b-b350-2db9f868b511"
      },
      "execution_count": 6,
      "outputs": [
        {
          "output_type": "stream",
          "name": "stdout",
          "text": [
            "Sorted list: [37, 66, 72, 89, 91]\n"
          ]
        }
      ]
    },
    {
      "cell_type": "markdown",
      "source": [
        "28. Write a code to create a list with strings and print the element at the third index?"
      ],
      "metadata": {
        "id": "7dHC5KIWe3Py"
      }
    },
    {
      "cell_type": "markdown",
      "source": [
        "The answer to the 28th Question"
      ],
      "metadata": {
        "id": "xEIFkwJufDn-"
      }
    },
    {
      "cell_type": "code",
      "source": [
        "words = [\"apple\", \"banana\", \"cherry\", \"date\", \"elderberry\"]\n",
        "print(\"Element at third index:\", words[3])\n"
      ],
      "metadata": {
        "colab": {
          "base_uri": "https://localhost:8080/"
        },
        "id": "euMB8zUifEWw",
        "outputId": "69e94273-df2b-4ded-ca2e-bd233ed8bb1d"
      },
      "execution_count": 7,
      "outputs": [
        {
          "output_type": "stream",
          "name": "stdout",
          "text": [
            "Element at third index: date\n"
          ]
        }
      ]
    },
    {
      "cell_type": "markdown",
      "source": [
        "29. Write a code to combine two dictionaries into one and print the result?"
      ],
      "metadata": {
        "id": "Ut_5KNAVfK8b"
      }
    },
    {
      "cell_type": "markdown",
      "source": [
        "The answer to the 29th Question"
      ],
      "metadata": {
        "id": "SQO-eQ1CfREu"
      }
    },
    {
      "cell_type": "code",
      "source": [
        "dict1 = {\"a\": 1, \"b\": 2}\n",
        "dict2 = {\"c\": 3, \"d\": 4}\n",
        "combined = {**dict1, **dict2}\n",
        "print(\"Combined dictionary:\", combined)\n"
      ],
      "metadata": {
        "colab": {
          "base_uri": "https://localhost:8080/"
        },
        "id": "6NsJK8NSfRbH",
        "outputId": "0a43783d-4fa3-499e-c458-4886746e68a0"
      },
      "execution_count": 8,
      "outputs": [
        {
          "output_type": "stream",
          "name": "stdout",
          "text": [
            "Combined dictionary: {'a': 1, 'b': 2, 'c': 3, 'd': 4}\n"
          ]
        }
      ]
    },
    {
      "cell_type": "markdown",
      "source": [
        "30. Write a code to convert a list of strings into a set?"
      ],
      "metadata": {
        "id": "aSw5kmUCfV_g"
      }
    },
    {
      "cell_type": "markdown",
      "source": [
        "The answer to the 30th Question"
      ],
      "metadata": {
        "id": "xx9cHYFzfayR"
      }
    },
    {
      "cell_type": "code",
      "source": [
        "words = [\"apple\", \"banana\", \"cherry\", \"apple\", \"banana\"]\n",
        "words_set = set(words)\n",
        "print(\"Set:\", words_set)\n"
      ],
      "metadata": {
        "colab": {
          "base_uri": "https://localhost:8080/"
        },
        "id": "6qrDKNA3fbUj",
        "outputId": "05ba63c8-a199-4a5c-f358-f263d524533b"
      },
      "execution_count": 9,
      "outputs": [
        {
          "output_type": "stream",
          "name": "stdout",
          "text": [
            "Set: {'banana', 'apple', 'cherry'}\n"
          ]
        }
      ]
    }
  ]
}